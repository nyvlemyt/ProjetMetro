{
 "cells": [
  {
   "cell_type": "code",
   "execution_count": null,
   "metadata": {},
   "outputs": [
    {
     "ename": "",
     "evalue": "",
     "output_type": "error",
     "traceback": [
      "\u001b[1;31mLes cellules en cours d’exécution avec venv (Python 3.9.6) nécessitent le package ipykernel.\n",
      "\u001b[1;31mExécutez la commande suivante pour installer 'ipykernel' dans l’environnement Python. \n",
      "\u001b[1;31mCommande : '\"/Users/melvyn/Documents/maths pour l'info/projet metro/venv/bin/python\" -m pip install ipykernel -U --force-reinstall'"
     ]
    }
   ],
   "source": [
    "import pandas as pd "
   ]
  },
  {
   "cell_type": "code",
   "execution_count": null,
   "metadata": {},
   "outputs": [],
   "source": [
    "file_path_stations = r\"/Users/melvyn/Documents/maths pour l'info/projet metro/asset/stations.txt\"\n",
    "stations = pd.read_csv(file_path_stations, sep=\";\", header=0)\n",
    "stations"
   ]
  },
  {
   "cell_type": "code",
   "execution_count": null,
   "metadata": {},
   "outputs": [],
   "source": [
    "file_path_liaisons = r\"/Users/melvyn/Documents/maths pour l'info/projet metro/asset/liaisons.txt\"\n",
    "liaisons = pd.read_csv(file_path_liaisons, sep=\" \", header=0)\n",
    "liaisons"
   ]
  },
  {
   "cell_type": "markdown",
   "metadata": {},
   "source": [
    "pour chaque sommet : \n",
    "    pour chaque autre sommet : \n",
    "        verifier si un chemin existe \n",
    "\n",
    "parcours en largeur : \n",
    "    "
   ]
  }
 ],
 "metadata": {
  "kernelspec": {
   "display_name": "venv",
   "language": "python",
   "name": "python3"
  },
  "language_info": {
   "name": "python",
   "version": "3.9.6"
  }
 },
 "nbformat": 4,
 "nbformat_minor": 2
}
